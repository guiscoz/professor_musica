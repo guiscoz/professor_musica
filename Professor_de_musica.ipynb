{
  "nbformat": 4,
  "nbformat_minor": 0,
  "metadata": {
    "colab": {
      "provenance": [],
      "authorship_tag": "ABX9TyMvb6ofkHdC/Lu+6BwcC/Z9"
    },
    "kernelspec": {
      "name": "python3",
      "display_name": "Python 3"
    },
    "language_info": {
      "name": "python"
    }
  },
  "cells": [
    {
      "cell_type": "code",
      "execution_count": 22,
      "metadata": {
        "id": "40ekXeW115oj"
      },
      "outputs": [],
      "source": [
        "!pip install -q -U google-generativeai"
      ]
    },
    {
      "cell_type": "code",
      "source": [
        "import google.generativeai as genai\n",
        "\n",
        "GOOGLE_API_KEY=\"SUA_API_KEY_DO_GOOGLE_AI_STUDIO\"\n",
        "genai.configure(api_key=GOOGLE_API_KEY)"
      ],
      "metadata": {
        "id": "ScubBuZQ2kdQ"
      },
      "execution_count": 23,
      "outputs": []
    },
    {
      "cell_type": "code",
      "source": [
        "safety_settings={\n",
        "  'HATE': 'BLOCK_NONE',\n",
        "  'HARASSMENT': 'BLOCK_NONE',\n",
        "  'SEXUAL' : 'BLOCK_NONE',\n",
        "  'DANGEROUS' : 'BLOCK_NONE'\n",
        "}"
      ],
      "metadata": {
        "id": "7doPD-G72mAY"
      },
      "execution_count": 24,
      "outputs": []
    },
    {
      "cell_type": "code",
      "source": [
        "generation_config = {\n",
        "  \"candidate_count\": 1,\n",
        "  \"temperature\": 0,\n",
        "}"
      ],
      "metadata": {
        "id": "dg-y4vLE2nXX"
      },
      "execution_count": 25,
      "outputs": []
    },
    {
      "cell_type": "code",
      "source": [
        "system_instruction = \"Você só vai responder perguntas relacionadas à música. Qualquer coisa fora do tema, você vai dizer que não é da sua área.\""
      ],
      "metadata": {
        "id": "lItXdpoI2pzf"
      },
      "execution_count": 26,
      "outputs": []
    },
    {
      "cell_type": "code",
      "source": [
        "model = genai.GenerativeModel(\n",
        "  model_name='gemini-1.5-pro-latest',\n",
        "  generation_config=generation_config,\n",
        "  safety_settings=safety_settings,\n",
        "  system_instruction=system_instruction,\n",
        ")"
      ],
      "metadata": {
        "id": "3k0N6hRb22pQ"
      },
      "execution_count": 27,
      "outputs": []
    },
    {
      "cell_type": "code",
      "source": [
        "chat = model.start_chat(history=[])\n",
        "\n",
        "prompt = input('Digite o que gostaria de saber sobre música? ').lower()\n",
        "\n",
        "while prompt != \"nada\":\n",
        "  try:\n",
        "    response = chat.send_message(prompt)\n",
        "    print(\"Resposta:\", response.text, '\\n\\n')\n",
        "\n",
        "  except Exception as e:\n",
        "    print(f\"\\n\\nErro inesperado: \\n {e}\")\n",
        "    break\n",
        "\n",
        "  prompt = input('O que mais gostaria de saber? ').lower()"
      ],
      "metadata": {
        "id": "Qrkut2dd253d"
      },
      "execution_count": null,
      "outputs": []
    },
    {
      "cell_type": "code",
      "source": [
        "import textwrap\n",
        "from IPython.display import display\n",
        "from IPython.display import Markdown\n",
        "\n",
        "def to_markdown(text):\n",
        "  text = text.replace('•', '  *')\n",
        "  return Markdown(textwrap.indent(text, '> ', predicate=lambda _: True))\n",
        "\n",
        "#Imprimindo o histórico\n",
        "for message in chat.history:\n",
        "  display(to_markdown(f'**{message.role}**: {message.parts[0].text}'))\n",
        "  print('-------------------------------------------')"
      ],
      "metadata": {
        "id": "8PC8nX1D3hTo"
      },
      "execution_count": null,
      "outputs": []
    }
  ]
}