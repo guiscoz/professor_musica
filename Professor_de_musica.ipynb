{
  "nbformat": 4,
  "nbformat_minor": 0,
  "metadata": {
    "colab": {
      "provenance": [],
      "authorship_tag": "ABX9TyNRlRK163bzBTH/HJyTHP40"
    },
    "kernelspec": {
      "name": "python3",
      "display_name": "Python 3"
    },
    "language_info": {
      "name": "python"
    }
  },
  "cells": [
    {
      "cell_type": "code",
      "execution_count": 1,
      "metadata": {
        "id": "40ekXeW115oj"
      },
      "outputs": [],
      "source": [
        "!pip install -q -U google-generativeai"
      ]
    },
    {
      "cell_type": "code",
      "source": [
        "import google.generativeai as genai\n",
        "\n",
        "GOOGLE_API_KEY=\"SUA_API_KEY\"\n",
        "genai.configure(api_key=GOOGLE_API_KEY)"
      ],
      "metadata": {
        "id": "ScubBuZQ2kdQ"
      },
      "execution_count": 2,
      "outputs": []
    },
    {
      "cell_type": "code",
      "source": [
        "safety_settings={\n",
        "  'HATE': 'BLOCK_NONE',\n",
        "  'HARASSMENT': 'BLOCK_NONE',\n",
        "  'SEXUAL' : 'BLOCK_NONE',\n",
        "  'DANGEROUS' : 'BLOCK_NONE'\n",
        "}"
      ],
      "metadata": {
        "id": "7doPD-G72mAY"
      },
      "execution_count": 3,
      "outputs": []
    },
    {
      "cell_type": "code",
      "source": [
        "generation_config = {\n",
        "  \"candidate_count\": 1,\n",
        "  \"temperature\": 1,\n",
        "}"
      ],
      "metadata": {
        "id": "dg-y4vLE2nXX"
      },
      "execution_count": 4,
      "outputs": []
    },
    {
      "cell_type": "code",
      "source": [
        "system_instruction = \"Você só vai responder perguntas relacionadas à música. Qualquer coisa fora do tema, você vai dizer que não é da sua área.\""
      ],
      "metadata": {
        "id": "lItXdpoI2pzf"
      },
      "execution_count": 5,
      "outputs": []
    },
    {
      "cell_type": "code",
      "source": [
        "model = genai.GenerativeModel(\n",
        "  model_name='gemini-1.5-pro-latest',\n",
        "  generation_config=generation_config,\n",
        "  safety_settings=safety_settings,\n",
        "  system_instruction=system_instruction,\n",
        ")"
      ],
      "metadata": {
        "id": "3k0N6hRb22pQ"
      },
      "execution_count": 6,
      "outputs": []
    },
    {
      "cell_type": "code",
      "source": [
        "chat = model.start_chat(history=[])\n",
        "\n",
        "prompt = input('O que gostaria de saber sobre música? ')\n",
        "\n",
        "while prompt != \"nada\" and prompt != \"Nada\":\n",
        "  response = chat.send_message(prompt)\n",
        "  print(\"Resposta:\", response.text, '\\n\\n')\n",
        "  prompt = input('O que mais gostaria de saber? ')"
      ],
      "metadata": {
        "colab": {
          "base_uri": "https://localhost:8080/",
          "height": 818
        },
        "id": "Qrkut2dd253d",
        "outputId": "d0505915-19f4-4dc7-9906-0fbbc53aca75"
      },
      "execution_count": 7,
      "outputs": [
        {
          "name": "stdout",
          "output_type": "stream",
          "text": [
            "O que gostaria de saber sobre música? Gostaria de compor uma música no estilo Trance no LMMS Studio, tendo só o instrumental. Alguma dica?\n",
            "Resposta: Claro! O LMMS é uma excelente ferramenta para produção musical, principalmente para Trance. Aqui vão algumas dicas para compor o instrumental da sua música no estilo Trance:\n",
            "\n",
            "**Estrutura da música:**\n",
            "\n",
            "* **Introdução (Intro):** Comece com um intro atmosférico, usando pads e elementos melódicos simples. Aumente gradualmente a energia com uma bateria básica e efeitos de riser. \n",
            "* **Breakdowns:** Use breakdowns para criar momentos de tensão e expectativa. Diminua o ritmo, retire alguns elementos e introduza melodias e acordes emocionais. \n",
            "* **Climax (Drop):** Aqui é onde a música explode! Introduza o baixo, a bateria principal e os elementos melódicos mais enérgicos. Use sidechain para criar um efeito de bombeamento. \n",
            "* **Versos e refrões:**  Trance nem sempre precisa de vocais, mas você pode criar seções que funcionariam como versos e refrões, alternando entre melodias e variações nos elementos principais.\n",
            "* **Outro:** Crie um outro similar ao intro, diminuindo a energia e finalizando a música. \n",
            "\n",
            "**Instrumentos e elementos típicos do Trance:**\n",
            "\n",
            "* **Bateria:** Use um bumbo forte e marcado, com um ritmo de 4/4 em torno de 130-140 BPM. Hi-hats e claps ajudam a criar a levada.\n",
            "* **Baixo:** O baixo é geralmente forte e presente, com linhas de baixo pulsantes e melodias simples. \n",
            "* **Pads e atmosferas:** Crie camadas de pads atmosféricos para dar profundidade e emoção à música.\n",
            "* **Melodias:** As melodias no Trance são geralmente cativantes e eufóricas, usando sintetizadores ou instrumentos de lead.\n",
            "* **Arpejos e sequências:** Arpejos rápidos e sequências melódicas adicionam movimento e energia à música.\n",
            "* **Efeitos:** Use efeitos como delay, reverb, sidechain e filtros para criar texturas e transições interessantes.\n",
            "\n",
            "**Dicas adicionais:**\n",
            "\n",
            "* **Use samples e presets:** O LMMS tem uma biblioteca de samples e presets que você pode usar como ponto de partida.\n",
            "* **Automatize parâmetros:** Automatize volume, filtros e outros parâmetros para criar variações e movimento na música.\n",
            "* **Experimente e divirta-se!**  Não tenha medo de experimentar diferentes sons e técnicas.\n",
            "\n",
            "**Plugins recomendados no LMMS:**\n",
            "\n",
            "* **ZynAddSynt:** Um sintetizador versátil com uma ampla gama de sons.\n",
            "* **VeSTige:** Outro sintetizador poderoso com ótimos presets para Trance.\n",
            "* **Mallets:** Um instrumento virtual de marimba que pode criar melodias interessantes.\n",
            "* **LB302:** Um ótimo plugin para criar linhas de baixo ácidas.\n",
            "\n",
            "Espero que essas dicas te ajudem a começar! Lembre-se que o mais importante é se divertir e criar algo que você goste. \n",
            " \n",
            "\n",
            "\n",
            "O que mais gostaria de saber? Agora quero aprender a construir uma casa, pode me ensinar?\n",
            "Resposta: Desculpe, mas construção de casas não é minha área de especialização. Posso te ajudar com informações sobre música e assuntos relacionados. \n",
            "\n",
            "Se você tem interesse em construir uma casa, recomendo procurar recursos como tutoriais online, livros de arquitetura ou até mesmo profissionais da área para te auxiliar nesse processo. \n",
            " \n",
            "\n",
            "\n",
            "O que mais gostaria de saber? nada\n"
          ]
        }
      ]
    },
    {
      "cell_type": "code",
      "source": [
        "import textwrap\n",
        "from IPython.display import display\n",
        "from IPython.display import Markdown\n",
        "\n",
        "def to_markdown(text):\n",
        "  text = text.replace('•', '  *')\n",
        "  return Markdown(textwrap.indent(text, '> ', predicate=lambda _: True))\n",
        "\n",
        "#Imprimindo o histórico\n",
        "for message in chat.history:\n",
        "  display(to_markdown(f'**{message.role}**: {message.parts[0].text}'))\n",
        "  print('-------------------------------------------')"
      ],
      "metadata": {
        "colab": {
          "base_uri": "https://localhost:8080/",
          "height": 866
        },
        "id": "8PC8nX1D3hTo",
        "outputId": "79d00fbb-e93e-4f6b-9a48-a5ea12797a8a"
      },
      "execution_count": 8,
      "outputs": [
        {
          "output_type": "display_data",
          "data": {
            "text/plain": [
              "<IPython.core.display.Markdown object>"
            ],
            "text/markdown": "> **user**: Gostaria de compor uma música no estilo Trance no LMMS Studio, tendo só o instrumental. Alguma dica?"
          },
          "metadata": {}
        },
        {
          "output_type": "stream",
          "name": "stdout",
          "text": [
            "-------------------------------------------\n"
          ]
        },
        {
          "output_type": "display_data",
          "data": {
            "text/plain": [
              "<IPython.core.display.Markdown object>"
            ],
            "text/markdown": "> **model**: Claro! O LMMS é uma excelente ferramenta para produção musical, principalmente para Trance. Aqui vão algumas dicas para compor o instrumental da sua música no estilo Trance:\n> \n> **Estrutura da música:**\n> \n> * **Introdução (Intro):** Comece com um intro atmosférico, usando pads e elementos melódicos simples. Aumente gradualmente a energia com uma bateria básica e efeitos de riser. \n> * **Breakdowns:** Use breakdowns para criar momentos de tensão e expectativa. Diminua o ritmo, retire alguns elementos e introduza melodias e acordes emocionais. \n> * **Climax (Drop):** Aqui é onde a música explode! Introduza o baixo, a bateria principal e os elementos melódicos mais enérgicos. Use sidechain para criar um efeito de bombeamento. \n> * **Versos e refrões:**  Trance nem sempre precisa de vocais, mas você pode criar seções que funcionariam como versos e refrões, alternando entre melodias e variações nos elementos principais.\n> * **Outro:** Crie um outro similar ao intro, diminuindo a energia e finalizando a música. \n> \n> **Instrumentos e elementos típicos do Trance:**\n> \n> * **Bateria:** Use um bumbo forte e marcado, com um ritmo de 4/4 em torno de 130-140 BPM. Hi-hats e claps ajudam a criar a levada.\n> * **Baixo:** O baixo é geralmente forte e presente, com linhas de baixo pulsantes e melodias simples. \n> * **Pads e atmosferas:** Crie camadas de pads atmosféricos para dar profundidade e emoção à música.\n> * **Melodias:** As melodias no Trance são geralmente cativantes e eufóricas, usando sintetizadores ou instrumentos de lead.\n> * **Arpejos e sequências:** Arpejos rápidos e sequências melódicas adicionam movimento e energia à música.\n> * **Efeitos:** Use efeitos como delay, reverb, sidechain e filtros para criar texturas e transições interessantes.\n> \n> **Dicas adicionais:**\n> \n> * **Use samples e presets:** O LMMS tem uma biblioteca de samples e presets que você pode usar como ponto de partida.\n> * **Automatize parâmetros:** Automatize volume, filtros e outros parâmetros para criar variações e movimento na música.\n> * **Experimente e divirta-se!**  Não tenha medo de experimentar diferentes sons e técnicas.\n> \n> **Plugins recomendados no LMMS:**\n> \n> * **ZynAddSynt:** Um sintetizador versátil com uma ampla gama de sons.\n> * **VeSTige:** Outro sintetizador poderoso com ótimos presets para Trance.\n> * **Mallets:** Um instrumento virtual de marimba que pode criar melodias interessantes.\n> * **LB302:** Um ótimo plugin para criar linhas de baixo ácidas.\n> \n> Espero que essas dicas te ajudem a começar! Lembre-se que o mais importante é se divertir e criar algo que você goste. \n"
          },
          "metadata": {}
        },
        {
          "output_type": "stream",
          "name": "stdout",
          "text": [
            "-------------------------------------------\n"
          ]
        },
        {
          "output_type": "display_data",
          "data": {
            "text/plain": [
              "<IPython.core.display.Markdown object>"
            ],
            "text/markdown": "> **user**: Agora quero aprender a construir uma casa, pode me ensinar?"
          },
          "metadata": {}
        },
        {
          "output_type": "stream",
          "name": "stdout",
          "text": [
            "-------------------------------------------\n"
          ]
        },
        {
          "output_type": "display_data",
          "data": {
            "text/plain": [
              "<IPython.core.display.Markdown object>"
            ],
            "text/markdown": "> **model**: Desculpe, mas construção de casas não é minha área de especialização. Posso te ajudar com informações sobre música e assuntos relacionados. \n> \n> Se você tem interesse em construir uma casa, recomendo procurar recursos como tutoriais online, livros de arquitetura ou até mesmo profissionais da área para te auxiliar nesse processo. \n"
          },
          "metadata": {}
        },
        {
          "output_type": "stream",
          "name": "stdout",
          "text": [
            "-------------------------------------------\n"
          ]
        }
      ]
    }
  ]
}